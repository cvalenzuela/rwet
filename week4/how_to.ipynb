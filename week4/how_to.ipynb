{
 "cells": [
  {
   "cell_type": "code",
   "execution_count": 223,
   "metadata": {
    "collapsed": false
   },
   "outputs": [
    {
     "name": "stdout",
     "output_type": "stream",
     "text": [
      "How to Survive a Heart Attack when Alone\n"
     ]
    }
   ],
   "source": [
    "from robobrowser import RoboBrowser\n",
    "import unicodedata\n",
    "import re\n",
    "\n",
    "browser = RoboBrowser(history=True, parser='html5lib')\n",
    "url= 'http://www.wikihow.com/Main-Page'\n",
    "browser.open(url)\n",
    "elements = browser.find_all('td') \n",
    "\n",
    "print elements[1].text"
   ]
  },
  {
   "cell_type": "code",
   "execution_count": 224,
   "metadata": {
    "collapsed": false
   },
   "outputs": [
    {
     "name": "stdout",
     "output_type": "stream",
     "text": [
      "How to Cut a Fade Haircut\n",
      "How to Survive a Heart Attack when Alone\n",
      "How to Search Property Titles on the Internet\n",
      "How to Teach Yourself the Basics of Karate\n",
      "How to Identify and Treat Black Widow Spider Bites\n",
      "How to Improve the Quality of Your Voice\n",
      "How to Gain Authority in the Workplace\n",
      "How to Create an Electromagnet\n",
      "How to Stop Picking Your Scabs\n",
      "How to Keep Chickens from Eating Their Own Eggs\n",
      "How to Release Carpal Tunnel Syndrome With Massage Therapy\n",
      "How to Paint Vases Casting Colorful Shadows in Watercolor\n",
      "How to Get Rid of Plantar Warts (Verrucas)\n",
      "How to Do a Coffee Hair Treatment\n",
      "How to Analyze Yourself\n",
      "How to Clean Up Your Desk\n",
      "How to Make Peppermint Tea\n",
      "How to Do a One Armed Push Up\n",
      "How to Deal With a Drug Addicted Family Member or Loved One\n",
      "How to Keep a Sharp Mind and Good Attitude\n",
      "How to Stop a Cat from Pulling Its Hair Out\n",
      "How to Woodburn\n",
      "How to Eat More Vitamin B\n",
      "How to Jump Rope for Weight Loss\n",
      "How to Buy a Car That Money Is Owed On\n",
      "How to Grow Grape Vines\n",
      "How to Set Windows 10 to Automatically Update Your Time Zone Based on Location\n",
      "How to Avoid Heel Pain and Plantar Fasciitis\n",
      "How to Help Your Friend Who Is Being Abused\n",
      "How to Paint a Bike\n",
      "How to Learn Dutch\n",
      "How to Write a Business Case\n",
      "How to Love Unconditionally\n",
      "How to Treat Sudden Cardiac Arrest\n",
      "How to Become a Fan of the Make the Grade TV Game Show\n",
      "How to Make a Giant Spaghetti Stuffed Meatball\n",
      "How to Write Cattle Ear Tags\n",
      "How to Cook Cauliflower Biscuits\n",
      "How to Oxidize a Gummy Bear\n",
      "How to Convert Photos to a Sketch Using Adobe Photoshop CS2\n",
      "How to Do Basic Figure Skating Techniques\n",
      "How to Sign Up for Edmodo\n",
      "How to Add Custom Formatting to a Table of Contents in Word 2016\n",
      "How to Change Your Name on Twitter\n",
      "How to Choose the Healthiest Salad Bar Options\n",
      "How to Have a First Kiss\n",
      "How to Enjoy Being Alone\n",
      "How to Tell if You Have Strep Throat\n",
      "How to Get a More Flexible Back\n",
      "How to Cope With Panic Attacks\n",
      "How to Install a Security Camera System for a House\n",
      "How to Determine Your Face Shape\n",
      "How to Play Acoustic Guitar Tab\n",
      "How to Write a Living Will\n"
     ]
    }
   ],
   "source": [
    "# from the main page, get all titles listed\n",
    "titles = []\n",
    "\n",
    "for element in elements:\n",
    "    titles.append(element.text)\n",
    "    print element.text\n",
    "\n"
   ]
  },
  {
   "cell_type": "code",
   "execution_count": 226,
   "metadata": {
    "collapsed": false
   },
   "outputs": [
    {
     "name": "stdout",
     "output_type": "stream",
     "text": [
      "{u'Part 1': u'Plan the Haircut', u'Part 3': u'Cut a Long Fade', u'Part 2': u'Cut a Short Fade'}\n"
     ]
    }
   ],
   "source": [
    "# from each tutorial, take the headers and create a dictionary for each\n",
    "headers = []\n",
    "\n",
    "for row in elements:\n",
    "    link = row.findAll('a')\n",
    "    browser.follow_link(link[0])\n",
    "    parts = browser.find_all('h3')\n",
    "    item = {}\n",
    "    \n",
    "    for header in parts:\n",
    "        if(header.text != 'Log in' and header.text != 'About this wikiHow' and header.text != 'Quick Tips' and header.text != 'Related Articles' and header.text != 'Did this article help you?'):\n",
    "            split_header = header.text.split()\n",
    "            item[split_header[0] + \" \" + split_header[1]] = \" \".join(split_header[2:])\n",
    "    \n",
    "    headers.append(item)\n",
    "\n",
    "print headers[0]"
   ]
  },
  {
   "cell_type": "code",
   "execution_count": 228,
   "metadata": {
    "collapsed": false
   },
   "outputs": [],
   "source": [
    "# from each tutorial, take each of the descriptions and append to instructions list\n",
    "instructions = []\n",
    "\n",
    "for row in elements:\n",
    "    link = row.findAll('a')\n",
    "    browser.follow_link(link[0])\n",
    "    steps = browser.select('.step')\n",
    "    \n",
    "    for step in steps:\n",
    "        instructions.append(step.text)\n",
    "\n",
    "   "
   ]
  },
  {
   "cell_type": "code",
   "execution_count": 299,
   "metadata": {
    "collapsed": false
   },
   "outputs": [
    {
     "name": "stdout",
     "output_type": "stream",
     "text": [
      "How to Analyze Yourself\n",
      "=============================\n",
      "Part 1: Getting in the Zone.\n",
      "\n",
      "Switch.\n",
      "\n",
      "----------\n",
      "Part 2: Creating Organizational Systems.\n",
      "\n",
      "Invite him to kiss you.\n",
      "\n",
      "----------\n",
      "Part 3: Putting Your Desk Back Together.\n",
      "\n",
      "Set up a recording device and monitor.\n",
      "\n",
      "----------\n"
     ]
    }
   ],
   "source": [
    "# Create a new Random Tutorial\n",
    "from random import choice\n",
    "\n",
    "print choice(titles)\n",
    "print '============================='\n",
    "\n",
    "amount_of_steps = 3\n",
    "part = 1\n",
    "header_valid = False\n",
    "\n",
    "for step in range(amount_of_steps):\n",
    "    while not header_valid:\n",
    "        random_header = choice(headers)\n",
    "        header_valid = random_header.has_key('Part '+ str(part))\n",
    "    try:\n",
    "        print 'Part ' + str(part) + ': ' + random_header['Part '+ str(part)] + \".\"\n",
    "        print choice(instructions).split(\".\")[0] + \".\"\n",
    "        print ''\n",
    "        print '----------'\n",
    "        part += 1\n",
    "    except:\n",
    "        print 'fail!'\n",
    "        continue\n",
    "    header_valid = False\n"
   ]
  }
 ],
 "metadata": {
  "kernelspec": {
   "display_name": "Python 2",
   "language": "python",
   "name": "python2"
  },
  "language_info": {
   "codemirror_mode": {
    "name": "ipython",
    "version": 2
   },
   "file_extension": ".py",
   "mimetype": "text/x-python",
   "name": "python",
   "nbconvert_exporter": "python",
   "pygments_lexer": "ipython2",
   "version": "2.7.13"
  }
 },
 "nbformat": 4,
 "nbformat_minor": 2
}
