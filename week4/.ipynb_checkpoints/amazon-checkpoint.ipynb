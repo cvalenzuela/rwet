{
 "cells": [
  {
   "cell_type": "code",
   "execution_count": 13,
   "metadata": {
    "collapsed": false,
    "deletable": true,
    "editable": true,
    "scrolled": false
   },
   "outputs": [
    {
     "name": "stdout",
     "output_type": "stream",
     "text": [
      "['https://www.amazon.com/LightBiz-Wireless-Cabinet-Lighting-Operated/dp/B01HZX96KE', 'https://www.amazon.com/dp/B01HZX96KE', 'https://www.amazon.com/Digital-Thermometer-Accurate-Children-Indicator/dp/B01A90FMHQ', 'https://www.amazon.com/dp/B01A90FMHQ', 'https://www.amazon.com/Scarleton-Accent-Belt-Crossbody-H183301/dp/B011VZNHKM', 'https://www.amazon.com/dp/B015OTDAPS', 'https://www.amazon.com/dp/B011VZNHKM', 'https://www.amazon.com/dp/B01LZT39SO', 'https://www.amazon.com/dp/B013TQTOGW', 'https://www.amazon.com/dp/B01IO4094A', 'https://www.amazon.com/dp/B01LYKSHBI', 'https://www.amazon.com/dp/B011VZNHQG', 'https://www.amazon.com/dp/B013CK0HX4', 'https://www.amazon.com/dp/B013TQTOI', 'https://www.amazon.com/Iselector-5-Port-Universal-Charger-2-Outlet/dp/B00W4WWCCQ', 'https://www.amazon.com/dp/B00W4WWCCQ', 'https://www.amazon.com/Black-Box-G1W-H-Hidden-Dash/dp/B00HMNFWYW', 'https://www.amazon.com/dp/B00HMNFWYW', 'https://www.amazon.com/Bushnell-Trophy-Essential-Trail-Camera/dp/B01CQBYU1', 'https://www.amazon.com/Lenovo-Intel-N3060-16GB-Chromebook/dp/B01I71T4GO', 'https://www.amazon.com/Trilog%C3%ADa-Guillermo-Labyrinth-Criterion-Collection/dp/B01IPDFFXK']\n"
     ]
    }
   ],
   "source": [
    "from robobrowser import RoboBrowser\n",
    "import unicodedata\n",
    "import re\n",
    "\n",
    "browser = RoboBrowser(history=True, parser='html5lib')\n",
    "url= 'https://www.amazon.com/gp/goldbox/ref=nav_cs_gb'\n",
    "browser.open(url)\n",
    "products = browser.select('body .slotContainer script')\n",
    "products_egressUrl = re.findall(r\"egressUrl.*\", str(products[1]))\n",
    "\n",
    "products_link = []\n",
    "\n",
    "for p in products_egressUrl:\n",
    "    link = p.strip('egressUrl\":[] ,')\n",
    "    products_link.append(link)\n",
    "    \n",
    "print products_link[:1]\n"
   ]
  },
  {
   "cell_type": "code",
   "execution_count": 43,
   "metadata": {
    "collapsed": false,
    "deletable": true,
    "editable": true
   },
   "outputs": [
    {
     "name": "stdout",
     "output_type": "stream",
     "text": [
      "[<body><a href=\"/\"><img alt=\"Amazon.com\" id=\"b\" src=\"https://images-na.ssl-images-amazon.com/images/G/01/error/logo._TTD_.png\"/></a>\\n<form accept-charset=\"utf-8\" action=\"/s\" id=\"a\" method=\"GET\" role=\"search\">\\n  <div id=\"c\"><input id=\"e\" name=\"field-keywords\" placeholder=\"Search\"/><input id=\"f\" type=\"submit\" value=\"Go\"/></div>\\n</form>\\n<div id=\"g\">\\n  <div><a href=\"/\"><img alt=\"Sorry! Something went wrong on our end. Please go back and try again or go to Amazon's home page.\" src=\"https://images-na.ssl-images-amazon.com/images/G/01/error/500_503.png\"/></a>\\n  </div>\\n  <a href=\"/dogsofamazon\" rel=\"noopener noreferrer\" target=\"_blank\"><img alt=\"Dogs of Amazon\" id=\"d\"/></a>\\n  <script>document.getElementById(\"d\").src = \"https://images-na.ssl-images-amazon.com/images/G/01/error/\" + (Math.floor(Math.random() * 43) + 1) + \"._TTD_.jpg\";</script>\\n</div>\\n\\n\\n</body>]\n"
     ]
    }
   ],
   "source": [
    "headers = []\n",
    "#body #a-page #dp #dp-container #centerCol #title_feature_div h1 span\n",
    "\n",
    "for product in products_link[:1]:\n",
    "    browser.open(product)\n",
    "    try:\n",
    "        header = browser.select('body')\n",
    "        #title = re.findall(r\"h.*\", str(header))\n",
    "        #header = browser.select('body #a-page #dp #dp-container #centerCol #title_feature_div h1 span')\n",
    "        #title = unicodedata.normalize('NFD', header[0].text[16:]).encode('ascii', 'ignore')\n",
    "        print header\n",
    "        #headers.append(title)\n",
    "    except:\n",
    "        print 'Failed to load header'\n",
    "#print headers"
   ]
  },
  {
   "cell_type": "code",
   "execution_count": 8,
   "metadata": {
    "collapsed": false,
    "deletable": true,
    "editable": true
   },
   "outputs": [
    {
     "data": {
      "text/plain": [
       "'LED Closet Light, LightBiz 20-LED Wireless Motion Sensor Night Light Under Cabinet Lighting (Battery Operated)'"
      ]
     },
     "execution_count": 8,
     "metadata": {},
     "output_type": "execute_result"
    }
   ],
   "source": [
    "headers[1].strip()"
   ]
  },
  {
   "cell_type": "code",
   "execution_count": null,
   "metadata": {
    "collapsed": true,
    "deletable": true,
    "editable": true
   },
   "outputs": [],
   "source": []
  },
  {
   "cell_type": "code",
   "execution_count": null,
   "metadata": {
    "collapsed": true,
    "deletable": true,
    "editable": true
   },
   "outputs": [],
   "source": []
  },
  {
   "cell_type": "code",
   "execution_count": 97,
   "metadata": {
    "collapsed": false,
    "deletable": true,
    "editable": true
   },
   "outputs": [
    {
     "name": "stdout",
     "output_type": "stream",
     "text": [
      "[<td colspan=\"2\"><font face=\"Arial, Helvetica, sans-serif\" size=\"2\"><b>Product Highlights</b></font></td>]\n",
      "Product Highlights\n",
      "[<td valign=\"top\" width=\"35%\"><font face=\"Arial, Helvetica, sans-serif\" size=\"2\">Video</font></td>, <td valign=\"top\" width=\"65%\"><font face=\"Arial, Helvetica, sans-serif\" size=\"2\"><div id=\"webyclipEmbeded\" webyclip-category=\"Video Game Consoles\" webyclip-external-id=\"230282797\" webyclip-product-name=\"Sony PlayStation 4 Slim\" webyclip-product-page-title=\"Sony PlayStation 4 Slim UNCHARTED: The Nathan Drake Collection Bundle 500GB Black Console\" webyclip-subcategory=\"US\"></div><script type=\"text/javascript\"> (function() { var s = document.createElement('script'); s.type = 'text/javascript'; s.async = true; s.src = ((\"https:\" == document.location.protocol) ? \"https://6bf746ad5bc91a240a3d-1d8fbdf7ecdc2b67730d7c561f0d1dfd.ssl.cf2.rackcdn.com/webyclip-ebay-pdp-default-loader.min.js\" : \"http://code.webyclip.com/webyclip-ebay-pdp-default-loader.min.js\"); var x = document.getElementsByTagName('script')[0]; x.parentNode.insertBefore(s, x); })(); </script></font></td>]\n",
      "Video\n",
      "[<td colspan=\"2\"><br class=\"br\"/></td>]\n",
      "\n",
      "[<td colspan=\"2\"><font face=\"Arial, Helvetica, sans-serif\" size=\"2\"><b>Product Identifiers</b></font></td>]\n",
      "Product Identifiers\n",
      "[<td valign=\"top\" width=\"35%\"><font face=\"Arial, Helvetica, sans-serif\" size=\"2\">Brand</font></td>, <td valign=\"top\" width=\"65%\"><font face=\"Arial, Helvetica, sans-serif\" size=\"2\">Sony</font></td>]\n",
      "Brand\n",
      "[<td valign=\"top\" width=\"35%\"><font face=\"Arial, Helvetica, sans-serif\" size=\"2\">Product Name</font></td>, <td valign=\"top\" width=\"65%\"><font face=\"Arial, Helvetica, sans-serif\" size=\"2\">Sony PlayStation 4 Slim</font></td>]\n",
      "Product Name\n",
      "[<td valign=\"top\" width=\"35%\"><font face=\"Arial, Helvetica, sans-serif\" size=\"2\">UPC</font></td>, <td valign=\"top\" width=\"65%\"><font face=\"Arial, Helvetica, sans-serif\" size=\"2\">711719503965</font></td>]\n",
      "UPC\n",
      "[<td valign=\"top\" width=\"35%\"><font face=\"Arial, Helvetica, sans-serif\" size=\"2\">Product Line</font></td>, <td valign=\"top\" width=\"65%\"><font face=\"Arial, Helvetica, sans-serif\" size=\"2\">Sony PlayStation</font></td>]\n",
      "Product Line\n",
      "[<td colspan=\"2\"><br class=\"br\"/></td>]\n",
      "\n",
      "[<td colspan=\"2\"><font face=\"Arial, Helvetica, sans-serif\" size=\"2\"><b>General</b></font></td>]\n",
      "General\n",
      "[<td valign=\"top\" width=\"35%\"><font face=\"Arial, Helvetica, sans-serif\" size=\"2\">Type</font></td>, <td valign=\"top\" width=\"65%\"><font face=\"Arial, Helvetica, sans-serif\" size=\"2\">Console</font></td>]\n",
      "Type\n",
      "[<td valign=\"top\" width=\"35%\"><font face=\"Arial, Helvetica, sans-serif\" size=\"2\">Console Color</font></td>, <td valign=\"top\" width=\"65%\"><font face=\"Arial, Helvetica, sans-serif\" size=\"2\">Black</font></td>]\n",
      "Console Color\n",
      "[<td valign=\"top\" width=\"35%\"><font face=\"Arial, Helvetica, sans-serif\" size=\"2\">Release Date</font></td>, <td valign=\"top\" width=\"65%\"><font face=\"Arial, Helvetica, sans-serif\" size=\"2\">September/15/2016</font></td>]\n",
      "Release Date\n",
      "[<td valign=\"top\" width=\"35%\"><font face=\"Arial, Helvetica, sans-serif\" size=\"2\">Device Input Support</font></td>, <td valign=\"top\" width=\"65%\"><font face=\"Arial, Helvetica, sans-serif\" size=\"2\">Camera, Wireless Gaming Controller</font></td>]\n",
      "Device Input Support\n",
      "[<td valign=\"top\" width=\"35%\"><font face=\"Arial, Helvetica, sans-serif\" size=\"2\">Edition</font></td>, <td valign=\"top\" width=\"65%\"><font face=\"Arial, Helvetica, sans-serif\" size=\"2\">UNCHARTED: The Nathan Drake Collection Bundle</font></td>]\n",
      "Edition\n",
      "[<td colspan=\"2\"><br class=\"br\"/></td>]\n",
      "\n",
      "[<td colspan=\"2\"><font face=\"Arial, Helvetica, sans-serif\" size=\"2\"><b>Audio </b></font></td>]\n",
      "Audio \n",
      "[<td valign=\"top\" width=\"35%\"><font face=\"Arial, Helvetica, sans-serif\" size=\"2\">Audio Output Support</font></td>, <td valign=\"top\" width=\"65%\"><font face=\"Arial, Helvetica, sans-serif\" size=\"2\">Surround Sound</font></td>]\n",
      "Audio Output Support\n",
      "[<td colspan=\"2\"><br class=\"br\"/></td>]\n",
      "\n",
      "[<td colspan=\"2\"><font face=\"Arial, Helvetica, sans-serif\" size=\"2\"><b>Power &amp; Battery</b></font></td>]\n",
      "Power & Battery\n",
      "[<td valign=\"top\" width=\"35%\"><font face=\"Arial, Helvetica, sans-serif\" size=\"2\">Power Source Types</font></td>, <td valign=\"top\" width=\"65%\"><font face=\"Arial, Helvetica, sans-serif\" size=\"2\">Power Supply - external</font></td>]\n",
      "Power Source Types\n",
      "[<td colspan=\"2\"><br class=\"br\"/></td>]\n",
      "\n",
      "[<td colspan=\"2\"><font face=\"Arial, Helvetica, sans-serif\" size=\"2\"><b>Technical Details</b></font></td>]\n",
      "Technical Details\n",
      "[<td valign=\"top\" width=\"35%\"><font face=\"Arial, Helvetica, sans-serif\" size=\"2\">Supported Media</font></td>, <td valign=\"top\" width=\"65%\"><font face=\"Arial, Helvetica, sans-serif\" size=\"2\">BD-ROM, DVD-ROM</font></td>]\n",
      "Supported Media\n",
      "[<td valign=\"top\" width=\"35%\"><font face=\"Arial, Helvetica, sans-serif\" size=\"2\">Video Outputs</font></td>, <td valign=\"top\" width=\"65%\"><font face=\"Arial, Helvetica, sans-serif\" size=\"2\">HDMI</font></td>]\n",
      "Video Outputs\n",
      "[<td valign=\"top\" width=\"35%\"><font face=\"Arial, Helvetica, sans-serif\" size=\"2\">Internet Connectivity</font></td>, <td valign=\"top\" width=\"65%\"><font face=\"Arial, Helvetica, sans-serif\" size=\"2\">Wired, Wireless</font></td>]\n",
      "Internet Connectivity\n",
      "[<td valign=\"top\" width=\"35%\"><font face=\"Arial, Helvetica, sans-serif\" size=\"2\">Ram Capacity</font></td>, <td valign=\"top\" width=\"65%\"><font face=\"Arial, Helvetica, sans-serif\" size=\"2\">8GB</font></td>]\n",
      "Ram Capacity\n",
      "[<td valign=\"top\" width=\"35%\"><font face=\"Arial, Helvetica, sans-serif\" size=\"2\">Region Code</font></td>, <td valign=\"top\" width=\"65%\"><font face=\"Arial, Helvetica, sans-serif\" size=\"2\">Region-Free</font></td>]\n",
      "Region Code\n",
      "[<td valign=\"top\" width=\"35%\"><font face=\"Arial, Helvetica, sans-serif\" size=\"2\">CPU</font></td>, <td valign=\"top\" width=\"65%\"><font face=\"Arial, Helvetica, sans-serif\" size=\"2\">x86-64 AMD \"Jaguar\"</font></td>]\n",
      "CPU\n",
      "[<td colspan=\"2\"><br class=\"br\"/></td>]\n",
      "\n",
      "[<td colspan=\"2\"><font face=\"Arial, Helvetica, sans-serif\" size=\"2\"><b>Graphic</b></font></td>]\n",
      "Graphic\n",
      "[<td valign=\"top\" width=\"35%\"><font face=\"Arial, Helvetica, sans-serif\" size=\"2\">Memory Capacity</font></td>, <td valign=\"top\" width=\"65%\"><font face=\"Arial, Helvetica, sans-serif\" size=\"2\">8GB</font></td>]\n",
      "Memory Capacity\n",
      "[<td colspan=\"2\"><br class=\"br\"/></td>]\n",
      "\n",
      "[<td colspan=\"2\"><font face=\"Arial, Helvetica, sans-serif\" size=\"2\"><b>Features</b></font></td>]\n",
      "Features\n",
      "[<td valign=\"top\" width=\"35%\"><font face=\"Arial, Helvetica, sans-serif\" size=\"2\">Country Region</font></td>, <td valign=\"top\" width=\"65%\"><font face=\"Arial, Helvetica, sans-serif\" size=\"2\">United States</font></td>]\n",
      "Country Region\n",
      "[<td colspan=\"2\"><br class=\"br\"/></td>]\n",
      "\n",
      "[<td colspan=\"2\"><font face=\"Arial, Helvetica, sans-serif\" size=\"2\"><b>Hard Drive </b></font></td>]\n",
      "Hard Drive \n",
      "[<td valign=\"top\" width=\"35%\"><font face=\"Arial, Helvetica, sans-serif\" size=\"2\">Hard Drive Capacity</font></td>, <td valign=\"top\" width=\"65%\"><font face=\"Arial, Helvetica, sans-serif\" size=\"2\">500GB</font></td>]\n",
      "Hard Drive Capacity\n",
      "[<td colspan=\"2\"><br class=\"br\"/></td>]\n",
      "\n"
     ]
    }
   ],
   "source": [
    "for product in products[:1]:\n",
    "    browser.follow_link(product)\n",
    "    try:\n",
    "        rows = browser.select('.prodDetailSec table tbody tr td table tbody tr')\n",
    "    except:\n",
    "        print \"Failed to grab text\"\n",
    "\n",
    "descriptions = []\n",
    "\n",
    "for row in rows:\n",
    "    desc = row.findAll('td')\n",
    "    print desc\n",
    "    try:\n",
    "        print desc[0].text\n",
    "    except:\n",
    "        print 'Failed'\n"
   ]
  }
 ],
 "metadata": {
  "kernelspec": {
   "display_name": "Python 2",
   "language": "python",
   "name": "python2"
  },
  "language_info": {
   "codemirror_mode": {
    "name": "ipython",
    "version": 2
   },
   "file_extension": ".py",
   "mimetype": "text/x-python",
   "name": "python",
   "nbconvert_exporter": "python",
   "pygments_lexer": "ipython2",
   "version": "2.7.13"
  }
 },
 "nbformat": 4,
 "nbformat_minor": 2
}
