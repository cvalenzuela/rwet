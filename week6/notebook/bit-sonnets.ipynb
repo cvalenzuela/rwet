{
 "cells": [
  {
   "cell_type": "code",
   "execution_count": 1,
   "metadata": {
    "collapsed": false,
    "deletable": true,
    "editable": true
   },
   "outputs": [
    {
     "name": "stdout",
     "output_type": "stream",
     "text": [
      "[nltk_data] Downloading package punkt to\n",
      "[nltk_data]     /Users/cristobalvalenzuela/nltk_data...\n",
      "[nltk_data]   Package punkt is already up-to-date!\n",
      "[nltk_data] Downloading package stopwords to\n",
      "[nltk_data]     /Users/cristobalvalenzuela/nltk_data...\n",
      "[nltk_data]   Package stopwords is already up-to-date!\n"
     ]
    }
   ],
   "source": [
    "import sys\n",
    "import codecs \n",
    "import pronouncing\n",
    "import nltk\n",
    "import re\n",
    "import glob\n",
    "import json\n",
    "from random import choice\n",
    "from gutenberg.acquire import load_etext\n",
    "from gutenberg.cleanup import strip_headers\n",
    "\n",
    "# helper functions from nltk\n",
    "nltk.download(\"punkt\")\n",
    "nltk.download(\"stopwords\")\n",
    "tokenizer = nltk.data.load(\"tokenizers/punkt/english.pickle\")"
   ]
  },
  {
   "cell_type": "code",
   "execution_count": 6,
   "metadata": {
    "collapsed": false,
    "deletable": true,
    "editable": true
   },
   "outputs": [],
   "source": [
    "# Source files\n",
    "\n",
    "# bash docs\n",
    "bash_docs = open('../data/bash.txt').read()\n",
    "\n",
    "# python docs\n",
    "python_docs = sorted(glob.glob('../data/python-2.7.13-docs-text/tutorial/*.txt'))\n",
    "python_raw = u\"\"\n",
    "# read every file and append it to corpus raw\n",
    "for element in python_docs:\n",
    "    with codecs.open(element,\"r\",\"utf-8\") as element_file:\n",
    "        python_raw += element_file.read()\n",
    "\n",
    "# ulyses\n",
    "ulyses = strip_headers(load_etext(4300)).strip()\n",
    "\n",
    "# js docs\n",
    "js_docs = open('../data/jsdocs.txt').read().decode('ascii', errors=\"replace\")\n",
    "\n",
    "# Assembly docs\n",
    "assembly_docs = open('../data/assembler-guide.txt').read().decode('ascii', errors=\"replace\")\n",
    "\n",
    "# the list of words to use\n",
    "all_words = python_raw.split()"
   ]
  },
  {
   "cell_type": "code",
   "execution_count": 7,
   "metadata": {
    "collapsed": false,
    "deletable": true,
    "editable": true
   },
   "outputs": [],
   "source": [
    "# functions to create\n",
    "\n",
    "def create_line(position):\n",
    "    temp_index = position\n",
    "    sentence = ''\n",
    "    while len(sentence.encode('utf-8')) < 32:\n",
    "        word = all_words[temp_index]\n",
    "        sentence = sentence + \" \" +  word\n",
    "        temp_index -= 1\n",
    "        \n",
    "    sentence32 = []\n",
    "    for word in sentence.split():\n",
    "        clean_word = word.replace(\".\", \"\")\n",
    "        clean_word = clean_word.replace(\" \", \"\")\n",
    "        clean_word = clean_word.replace(\",\", \"\")\n",
    "        clean_word = clean_word.lower()\n",
    "        sentence32.append(clean_word)\n",
    "    \n",
    "    return \" \".join(reversed(sentence32))\n",
    "    #words = all_words[position-5 : position+1]\n",
    "    #line = []\n",
    "    #for word in words:\n",
    "        #clean_word = word.replace(\".\", \"\")\n",
    "        #line.append(clean_word)\n",
    "   # return \" \".join(line)\n",
    "\n",
    "def two_sentences():\n",
    "    x1 = ''\n",
    "    x2 = ''\n",
    "    sentences = []\n",
    "    while len(x2) == 0:\n",
    "        x1_word = choice(all_words)\n",
    "        try:\n",
    "            x2_word = choice(pronouncing.rhymes(x1_word))\n",
    "        except:\n",
    "            x2_word = ''\n",
    "        if len(x2_word) > 0:\n",
    "            x1_index = all_words.index(x1_word)\n",
    "            try:\n",
    "                x2_index = all_words.index(x2_word)\n",
    "            except:\n",
    "                x2_index = 0\n",
    "            if x2_index != 0:\n",
    "                x1 = create_line(x1_index) \n",
    "                x2 = create_line(x2_index)\n",
    "                sentences.append(x1)\n",
    "                sentences.append(x2)\n",
    "    return sentences      "
   ]
  },
  {
   "cell_type": "code",
   "execution_count": 8,
   "metadata": {
    "collapsed": false,
    "deletable": true,
    "editable": true,
    "scrolled": true
   },
   "outputs": [
    {
     "name": "stdout",
     "output_type": "stream",
     "text": [
      "interactive session you can also change\n",
      "use the popular data interchange\n",
      "\"keyboardinterrupt\" exception which may be\n",
      "\"sitecustomize\" and \"usercustomize\" to see\n",
      "called \"__main__\" so they have their\n",
      "myscriptpy on windows systems there\n",
      "interpreter prints an error message and\n",
      "pressing the \"return\" key passes\n",
      "interpreter prints an error message and\n",
      "pressing the \"return\" key passes\n",
      "output from executed commands is\n",
      "method resolution order changes\n",
      "local references) and all member\n",
      "the end 'on' one way to remember\n"
     ]
    }
   ],
   "source": [
    "# An original sonnet is 14 lines, each being 10 syllables long. \n",
    "# The structure is: ab ab, cdcd, efef, gg \n",
    "\n",
    "# A bit sonnet is 2^4 lines, each being an average of 2^5 syllables long. \n",
    "# The structure is: aa, bb cc, dede, ff, gg\n",
    "# The corpus can only be programming documentation\n",
    "\n",
    "a = two_sentences()\n",
    "b = two_sentences()\n",
    "c = two_sentences()\n",
    "d = two_sentences()\n",
    "e = two_sentences()\n",
    "f = two_sentences()\n",
    "g = two_sentences()\n",
    "\n",
    "print a[0]\n",
    "print a[1]\n",
    "\n",
    "print b[0]\n",
    "print b[1]\n",
    "\n",
    "print c[0]\n",
    "print c[1]\n",
    "\n",
    "print d[0]\n",
    "print e[1]\n",
    "print d[0]\n",
    "print e[1]\n",
    "\n",
    "print f[0]\n",
    "print f[1]\n",
    "\n",
    "print g[0]\n",
    "print g[1]"
   ]
  },
  {
   "cell_type": "code",
   "execution_count": null,
   "metadata": {
    "collapsed": true,
    "deletable": true,
    "editable": true
   },
   "outputs": [],
   "source": []
  }
 ],
 "metadata": {
  "kernelspec": {
   "display_name": "Python 2",
   "language": "python",
   "name": "python2"
  },
  "language_info": {
   "codemirror_mode": {
    "name": "ipython",
    "version": 2
   },
   "file_extension": ".py",
   "mimetype": "text/x-python",
   "name": "python",
   "nbconvert_exporter": "python",
   "pygments_lexer": "ipython2",
   "version": "2.7.13"
  }
 },
 "nbformat": 4,
 "nbformat_minor": 2
}
