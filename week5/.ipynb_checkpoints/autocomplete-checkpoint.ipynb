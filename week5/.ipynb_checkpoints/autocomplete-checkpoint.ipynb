{
 "cells": [
  {
   "cell_type": "code",
   "execution_count": 304,
   "metadata": {
    "collapsed": false
   },
   "outputs": [
    {
     "name": "stdout",
     "output_type": "stream",
     "text": [
      "[u'I am out for truth.', u'Saint Frusquin was her sire.', u'Fibres of fine fine straw.', u'Regular square feed for them.', u'Insure against street accident too.', u'BLOOM: _(Bows)_ Master! Mistress! Mantamer!  _(He lifts his arms.', u'He pitched a broad coin down.', u'A soft qualm, regret, flowed down his backbone, increasing.', u'--Are you going yourself?  --Well no, Mr Bloom said.', u\"Look, there's all I have.\"]\n"
     ]
    }
   ],
   "source": [
    "# Get Ulysess(4300) from gutenberg and select a random set of sentences.\n",
    "\n",
    "from gutenberg.acquire import load_etext\n",
    "from gutenberg.cleanup import strip_headers\n",
    "from random import choice \n",
    "\n",
    "text = strip_headers(load_etext(4300)).strip()\n",
    "text = text.split('.')\n",
    "\n",
    "amount_of_sentences = 10\n",
    "sentences = []\n",
    "\n",
    "valid = False\n",
    "\n",
    "# get the first 4 words of a random sentence \n",
    "for sentence in range(amount_of_sentences):\n",
    "    while not valid:\n",
    "        sentence = choice(text)\n",
    "        valid = len(sentence.split()) > 4 and len(sentence.split()) < 10\n",
    "    sentence = sentence.rstrip()\n",
    "    sentence = sentence.lstrip()\n",
    "    sentence = sentence.replace('\\n', ' ')\n",
    "    sentences.append(sentence+'.')\n",
    "    valid = False\n",
    "\n",
    "print sentences"
   ]
  },
  {
   "cell_type": "code",
   "execution_count": 305,
   "metadata": {
    "collapsed": false
   },
   "outputs": [
    {
     "name": "stdout",
     "output_type": "stream",
     "text": [
      "<span>I am out for truth.</span><br/>\n",
      "<span>I am sam.</span><br/>\n",
      "<span>Saint Frusquin was her sire.</span><br/>\n",
      "<span>Saint frusquin quimper.</span><br/>\n",
      "<span>Fibres of fine fine straw.</span><br/>\n",
      "<span>Fibres of cotton are obtained from.</span><br/>\n",
      "<span>Regular square feed for them.</span><br/>\n",
      "<span>Regular square pyramid surface area.</span><br/>\n",
      "<span>Insure against street accident too.</span><br/>\n",
      "<span>Insure against inheritance tax.</span><br/>\n",
      "<span>BLOOM: _(Bows)_ Master! Mistress! Mantamer!  _(He lifts his arms.</span><br/>\n",
      "<span>Bloom and bows.</span><br/>\n",
      "<span>He pitched a broad coin down.</span><br/>\n",
      "<span>He pitched forward.</span><br/>\n",
      "<span>A soft qualm, regret, flowed down his backbone, increasing.</span><br/>\n",
      "<span>A software.</span><br/>\n",
      "nop\n",
      "<span>Look, there's all I have.</span><br/>\n",
      "<span>Look there's a moose.</span><br/>\n"
     ]
    }
   ],
   "source": [
    "# use googles autocomplete api to load autocomplete sentences\n",
    "# http://suggestqueries.google.com/complete/search?client=firefox&q=QUERY\n",
    "\n",
    "import urllib\n",
    "import sys\n",
    "import json\n",
    "\n",
    "url = \"http://suggestqueries.google.com/complete/search?\"\n",
    "\n",
    "amount_of_words = 2\n",
    "final_result = []\n",
    "\n",
    "# look for the suggested queries and load a random one based on the input text\n",
    "for sentence in sentences:\n",
    "    words = ' '.join(sentence.split()[:amount_of_words])\n",
    "    query = urllib.urlencode({\"client\": \"firefox\", \"q\": words})\n",
    "    search_term = url + query\n",
    "    try:\n",
    "        urlobj = urllib.urlopen(search_term)\n",
    "        result = json.loads(urlobj.read())\n",
    "        if len(result[1]) > 1:\n",
    "            print '<span>' + sentence + '</span><br/>'\n",
    "            print '<span>' + choice(result[1]).capitalize()+'.' + '</span><br/>'\n",
    "        else:\n",
    "            print 'nop'\n",
    "    except:\n",
    "        print 'Format not valid for query. Maybe the string has wierd James Joyce characters.'\n",
    "\n",
    "\n",
    "\n",
    "\n",
    "\n",
    "\n"
   ]
  },
  {
   "cell_type": "code",
   "execution_count": null,
   "metadata": {
    "collapsed": true
   },
   "outputs": [],
   "source": []
  }
 ],
 "metadata": {
  "kernelspec": {
   "display_name": "Python 2",
   "language": "python",
   "name": "python2"
  },
  "language_info": {
   "codemirror_mode": {
    "name": "ipython",
    "version": 2
   },
   "file_extension": ".py",
   "mimetype": "text/x-python",
   "name": "python",
   "nbconvert_exporter": "python",
   "pygments_lexer": "ipython2",
   "version": "2.7.13"
  }
 },
 "nbformat": 4,
 "nbformat_minor": 2
}
