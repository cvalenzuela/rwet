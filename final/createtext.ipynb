{
 "cells": [
  {
   "cell_type": "code",
   "execution_count": 1,
   "metadata": {
    "collapsed": false
   },
   "outputs": [
    {
     "name": "stderr",
     "output_type": "stream",
     "text": [
      "Using TensorFlow backend.\n"
     ]
    }
   ],
   "source": [
    "import json\n",
    "import keras\n",
    "from keras.models import load_model\n",
    "import numpy as np\n",
    "from __future__ import unicode_literals # allows to use unicode strings\n",
    "import spacy\n",
    "from random import choice"
   ]
  },
  {
   "cell_type": "code",
   "execution_count": 27,
   "metadata": {
    "collapsed": false
   },
   "outputs": [],
   "source": [
    "model = load_model('models/gutenberg.h5')\n",
    "nlp = spacy.load('en')"
   ]
  },
  {
   "cell_type": "code",
   "execution_count": 28,
   "metadata": {
    "collapsed": false
   },
   "outputs": [],
   "source": [
    "maxlen = 40\n",
    "text = open('source_text/gutenberg.txt').read().lower() # read the file and convert to lowercase \n",
    "\n",
    "chars = sorted(list(set(text)))\n",
    "# what position does each character exist at in the prev list\n",
    "char_indices = dict((c,i) for i, c in enumerate(chars))\n",
    "indices_char = dict((i,c) for i,c in enumerate(chars))"
   ]
  },
  {
   "cell_type": "code",
   "execution_count": 137,
   "metadata": {
    "collapsed": false
   },
   "outputs": [
    {
     "ename": "SyntaxError",
     "evalue": "invalid syntax (<ipython-input-137-39a653bb9ecc>, line 4)",
     "output_type": "error",
     "traceback": [
      "\u001b[0;36m  File \u001b[0;32m\"<ipython-input-137-39a653bb9ecc>\"\u001b[0;36m, line \u001b[0;32m4\u001b[0m\n\u001b[0;31m    def sample(preds, temperature=0.1:\u001b[0m\n\u001b[0m                                     ^\u001b[0m\n\u001b[0;31mSyntaxError\u001b[0m\u001b[0;31m:\u001b[0m invalid syntax\n"
     ]
    }
   ],
   "source": [
    "# helper function to sample an index from a probability array\n",
    "# This comes directly from\n",
    "# https://github.com/fchollet/keras/blob/master/examples/lstm_text_generation.py\n",
    "def sample(preds, temperature=0.1:\n",
    "    preds = np.asarray(preds).astype('float64')\n",
    "    preds = np.log(preds) / temperature\n",
    "    exp_preds = np.exp(preds)\n",
    "    preds = exp_preds / np.sum(exp_preds)\n",
    "    probas = np.random.multinomial(1, preds, 1)\n",
    "    return np.argmax(probas)"
   ]
  },
  {
   "cell_type": "code",
   "execution_count": 147,
   "metadata": {
    "collapsed": false,
    "scrolled": true
   },
   "outputs": [
    {
     "name": "stdout",
     "output_type": "stream",
     "text": [
      "turn right and so the seemed and had made him to have the proportion of a standing the word of the door of the state of the boat of the hand of the senses of the co\n",
      "=====\n",
      "Turn right and so the seemed and had made him to have the proportion of a standing the word of the door of the proportion.\n"
     ]
    }
   ],
   "source": [
    "#sentence = 'alice was beggining to get very tired of'\n",
    "sentence = 'sturn left andturn left andturn left and'\n",
    "original = 'turn right and'\n",
    "# Grab diversity\n",
    "temperature = float(0.2)\n",
    "# how many chars to generate\n",
    "length = int(150)\n",
    "# Start with empty generated string\n",
    "generated = ''\n",
    "line = ''\n",
    "for i in range(length):\n",
    "    # First vectorize the text we are feeding in\n",
    "    x = np.zeros((1, maxlen, len(chars)))\n",
    "    for t, char in enumerate(sentence):\n",
    "        x[0, t, char_indices[char]] = 1.\n",
    "    # Then get a probability map of possible predictions of the next char\n",
    "    preds = model.predict(x, verbose=0)[0]\n",
    "    # Pick one\n",
    "    next_index = sample(preds, temperature)\n",
    "    # What character is it?\n",
    "    next_char = indices_char[next_index]\n",
    "    # Add it\n",
    "    generated += next_char\n",
    "    # Now feed in the previous sentence minus the first char plus the next char\n",
    "    sentence = sentence[1:] + next_char\n",
    "    # nlp for the sentence\n",
    "    line = original+generated\n",
    "    \n",
    "print(line)\n",
    "print(\"=====\")\n",
    "doc = nlp(line)\n",
    "nouns = [item.text for item in doc if item.pos_ == 'NOUN']\n",
    "adjs = [item.text for item in doc if item.pos_ == 'ADJ']    \n",
    "line = line.partition(choice(nouns))[0] + choice(nouns) + '.'\n",
    "line = \" \".join(line.split()).capitalize()\n",
    "print(line)\n"
   ]
  }
 ],
 "metadata": {
  "kernelspec": {
   "display_name": "Python 3",
   "language": "python",
   "name": "python3"
  },
  "language_info": {
   "codemirror_mode": {
    "name": "ipython",
    "version": 3
   },
   "file_extension": ".py",
   "mimetype": "text/x-python",
   "name": "python",
   "nbconvert_exporter": "python",
   "pygments_lexer": "ipython3",
   "version": "3.5.2"
  }
 },
 "nbformat": 4,
 "nbformat_minor": 2
}
