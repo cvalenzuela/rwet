{
 "cells": [
  {
   "cell_type": "code",
   "execution_count": 14,
   "metadata": {
    "collapsed": true
   },
   "outputs": [],
   "source": [
    "from __future__ import unicode_literals # allows to use unicode strings\n",
    "import markov\n",
    "import json\n",
    "import spacy\n",
    "from random import choice, randint"
   ]
  },
  {
   "cell_type": "code",
   "execution_count": 15,
   "metadata": {
    "collapsed": false
   },
   "outputs": [],
   "source": [
    "text = open('source_text/gutenberg.txt').read().lower()\n",
    "nlp = spacy.load('en')"
   ]
  },
  {
   "cell_type": "code",
   "execution_count": 16,
   "metadata": {
    "collapsed": false
   },
   "outputs": [],
   "source": [
    "text = text.split()\n",
    "model = markov.build_model(text, 1)"
   ]
  },
  {
   "cell_type": "code",
   "execution_count": 187,
   "metadata": {
    "collapsed": false
   },
   "outputs": [],
   "source": [
    "line = \" \".join(markov.generate(model, 1, ['continue']))"
   ]
  },
  {
   "cell_type": "code",
   "execution_count": 188,
   "metadata": {
    "collapsed": false
   },
   "outputs": [
    {
     "name": "stdout",
     "output_type": "stream",
     "text": [
      "continue keeping a corner, and here is a deep love, but a bound, he was asking what were so lonely. i was accused of the least, since they import of being a hog. they were in an old miller tackle mos’ dat put to you”—noirtier did not as i do seem to hold of such plaintiveness, such a prince, gazing at one entitled to let him god!” chapter 16. distrust of the conviction that i beg pardon would raise one’s own sex was just received their legs were sheltered from a better than previous month: yet decided that way?\" \"no, sir.\n",
      "=====\n",
      "Continue keeping a corner, and here is a deep love, but a bound, he was asking what were so lonely.\n"
     ]
    }
   ],
   "source": [
    "print(line)\n",
    "print(\"=====\")\n",
    "doc = nlp(line)\n",
    "nouns = [item.text for item in doc if item.pos_ == 'NOUN']\n",
    "adjs = [item.text for item in doc if item.pos_ == 'ADJ']\n",
    "while(len(line) > 100):\n",
    "    if(randint(1,10) > 5):\n",
    "        line = line.partition(choice(nouns))[0] + choice(nouns)\n",
    "        line = \" \".join(line.split()).capitalize().partition(\".\")[0] + '.'\n",
    "    else: \n",
    "        line = line.partition(choice(adjs))[0] + choice(adjs)\n",
    "        line = \" \".join(line.split()).capitalize().partition(\".\")[0] + '.'\n",
    "    \n",
    "print(line)"
   ]
  },
  {
   "cell_type": "code",
   "execution_count": 181,
   "metadata": {
    "collapsed": false
   },
   "outputs": [
    {
     "data": {
      "text/plain": [
       "4"
      ]
     },
     "execution_count": 181,
     "metadata": {},
     "output_type": "execute_result"
    }
   ],
   "source": [
    "randint(1,10)"
   ]
  }
 ],
 "metadata": {
  "kernelspec": {
   "display_name": "Python 3",
   "language": "python",
   "name": "python3"
  },
  "language_info": {
   "codemirror_mode": {
    "name": "ipython",
    "version": 3
   },
   "file_extension": ".py",
   "mimetype": "text/x-python",
   "name": "python",
   "nbconvert_exporter": "python",
   "pygments_lexer": "ipython3",
   "version": "3.5.2"
  }
 },
 "nbformat": 4,
 "nbformat_minor": 2
}
