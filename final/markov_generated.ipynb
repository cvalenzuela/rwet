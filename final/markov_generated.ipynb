{
 "cells": [
  {
   "cell_type": "code",
   "execution_count": 4,
   "metadata": {
    "collapsed": true
   },
   "outputs": [],
   "source": [
    "from __future__ import unicode_literals # allows to use unicode strings\n",
    "import markov\n",
    "import json\n",
    "#import spacy\n",
    "from random import choice, randint"
   ]
  },
  {
   "cell_type": "code",
   "execution_count": 5,
   "metadata": {
    "collapsed": false
   },
   "outputs": [],
   "source": [
    "text = open('source_text/gutenberg.txt').read().lower()\n",
    "#nlp = spacy.load('en')"
   ]
  },
  {
   "cell_type": "code",
   "execution_count": 6,
   "metadata": {
    "collapsed": false
   },
   "outputs": [],
   "source": [
    "text = text.split()\n",
    "model = markov.build_model(text, 1)"
   ]
  },
  {
   "cell_type": "code",
   "execution_count": 22,
   "metadata": {
    "collapsed": false
   },
   "outputs": [],
   "source": [
    "line = \" \".join(markov.generate(model, 1, ['continue']))"
   ]
  },
  {
   "cell_type": "code",
   "execution_count": 37,
   "metadata": {
    "collapsed": false
   },
   "outputs": [
    {
     "name": "stdout",
     "output_type": "stream",
     "text": [
      "Continue so you make it.\n"
     ]
    }
   ],
   "source": [
    "\n",
    "line = \" \".join(markov.generate(model, 1, ['continue']))\n",
    "\n",
    "while(len(line) > 100):\n",
    "    line = \" \".join(markov.generate(model, 1, ['continue']))\n",
    "    line = line.partition(\".\")[0].capitalize() + '.'\n",
    "\n",
    "#doc = nlp(line)\n",
    "#nouns = [item.text for item in doc if item.pos_ == 'NOUN']\n",
    "#adjs = [item.text for item in doc if item.pos_ == 'ADJ']\n",
    "#while(len(line) > 100):\n",
    "#    if(randint(1,10) > 5):\n",
    "#        line = line.partition(choice(nouns))[0] + choice(nouns)\n",
    "#        line = \" \".join(line.split()).capitalize().partition(\".\")[0] + '.'\n",
    "#    else: \n",
    "#        line = line.partition(choice(adjs))[0] + choice(adjs)\n",
    "#        line = \" \".join(line.split()).capitalize().partition(\".\")[0] + '.'\n",
    "    \n",
    "print(line)"
   ]
  },
  {
   "cell_type": "code",
   "execution_count": 181,
   "metadata": {
    "collapsed": false
   },
   "outputs": [
    {
     "data": {
      "text/plain": [
       "4"
      ]
     },
     "execution_count": 181,
     "metadata": {},
     "output_type": "execute_result"
    }
   ],
   "source": [
    "randint(1,10)"
   ]
  }
 ],
 "metadata": {
  "kernelspec": {
   "display_name": "Python 3",
   "language": "python",
   "name": "python3"
  },
  "language_info": {
   "codemirror_mode": {
    "name": "ipython",
    "version": 3
   },
   "file_extension": ".py",
   "mimetype": "text/x-python",
   "name": "python",
   "nbconvert_exporter": "python",
   "pygments_lexer": "ipython3",
   "version": "3.5.2"
  }
 },
 "nbformat": 4,
 "nbformat_minor": 2
}
